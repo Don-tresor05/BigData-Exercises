{
 "cells": [
  {
   "cell_type": "code",
   "execution_count": 1,
   "metadata": {},
   "outputs": [
    {
     "name": "stdout",
     "output_type": "stream",
     "text": [
      "Big Data: 60\n",
      "Management Information System: 70\n",
      "Operating System: 80\n",
      "C#: 90\n",
      "Data Structure: 100\n",
      "\n",
      "Total: 400\n",
      "\n",
      "Average: 80.0\n"
     ]
    }
   ],
   "source": [
    "BD = 60\n",
    "MIS = 70\n",
    "OS = 80\n",
    "NET = 90\n",
    "DS = 100\n",
    "\n",
    "print(\"Big Data:\", BD)\n",
    "print(\"Management Information System:\", MIS)\n",
    "print(\"Operating System:\", OS)\n",
    "print(\"C#:\", NET)\n",
    "print(\"Data Structure:\", DS)\n",
    "print(\"\\nTotal:\", BD + MIS + OS + NET + DS)\n",
    "print(\"\\nAverage:\", (BD + MIS + OS + NET + DS) / 5)\n",
    "\n"
   ]
  },
  {
   "cell_type": "code",
   "execution_count": 2,
   "metadata": {},
   "outputs": [
    {
     "name": "stdout",
     "output_type": "stream",
     "text": [
      "Addition Of Numbers:  550\n",
      "Subtraction Of Numbers:  -530\n",
      "Multiplication Of Numbers:  36288000000000000\n"
     ]
    }
   ],
   "source": [
    "n1 = 10\n",
    "n2 = 20\n",
    "n3 = 30\n",
    "n4 = 40\n",
    "n5 = 50\n",
    "n6 = 60\n",
    "n7 = 70\n",
    "n8 = 80\n",
    "n9 = 90\n",
    "n10 = 100\n",
    "\n",
    "print(\"Addition Of Numbers: \", n1 + n2 + n3 + n4 + n5 + n6 + n7 + n8 + n9 + n10)\n",
    "print(\"Subtraction Of Numbers: \", n1 - n2 - n3 - n4 - n5 - n6 - n7 - n8 - n9 - n10)\n",
    "print(\"Multiplication Of Numbers: \", n1 * n2 * n3 * n4 * n5 * n6 * n7 * n8 * n9 * n10)"
   ]
  },
  {
   "cell_type": "code",
   "execution_count": 8,
   "metadata": {},
   "outputs": [
    {
     "name": "stdout",
     "output_type": "stream",
     "text": [
      "Addition Of Numbers:  550\n",
      "Subtraction:  -10\n",
      "Subtraction:  -40\n",
      "Subtraction:  -80\n",
      "Subtraction:  -130\n",
      "Subtraction:  -190\n",
      "Subtraction:  -260\n",
      "Subtraction:  -340\n",
      "Subtraction:  -430\n",
      "Subtraction:  -530\n",
      "Multiplication of Numbers:  10\n",
      "Multiplication of Numbers:  200\n",
      "Multiplication of Numbers:  6000\n",
      "Multiplication of Numbers:  240000\n",
      "Multiplication of Numbers:  12000000\n",
      "Multiplication of Numbers:  720000000\n",
      "Multiplication of Numbers:  50400000000\n",
      "Multiplication of Numbers:  4032000000000\n",
      "Multiplication of Numbers:  362880000000000\n",
      "Multiplication of Numbers:  36288000000000000\n"
     ]
    }
   ],
   "source": [
    "nbrs = [10, 20, 30, 40, 50, 60, 70, 80, 90, 100] \n",
    "\n",
    "print(\"Addition Of Numbers: \", sum(nbrs))\n",
    "\n",
    "sub = nbrs[0]\n",
    "for number in nbrs[1:]:\n",
    "    sub -= number\n",
    "    print(\"Subtraction: \", sub)\n",
    "\n",
    "mult = 1\n",
    "for number in nbrs:\n",
    "    mult *= number\n",
    "    print(\"Multiplication of Numbers: \", mult)"
   ]
  },
  {
   "cell_type": "code",
   "execution_count": 3,
   "metadata": {},
   "outputs": [
    {
     "name": "stdout",
     "output_type": "stream",
     "text": [
      "There are 24 hours, 1440 minutes and 86400 seconds in a day.\n"
     ]
    }
   ],
   "source": [
    "hours_in_day = 24\n",
    "minutes_in_hour = 60\n",
    "seconds_in_minute = 60\n",
    "\n",
    "minutes_in_day = hours_in_day * minutes_in_hour\n",
    "seconds_in_day = hours_in_day * minutes_in_hour * seconds_in_minute\n",
    "\n",
    "print(f\"There are {hours_in_day} hours, {minutes_in_day} minutes and {seconds_in_day} seconds in a day.\")"
   ]
  },
  {
   "cell_type": "code",
   "execution_count": 4,
   "metadata": {},
   "outputs": [
    {
     "name": "stdout",
     "output_type": "stream",
     "text": [
      "200.0 at an exchange rate of 2.0 is 400.0\n"
     ]
    }
   ],
   "source": [
    "def get_input(prompt):\n",
    "    return float(input(prompt))\n",
    "\n",
    "def convert_currency(amount, rate):\n",
    "    return amount * rate\n",
    "\n",
    "amount = get_input(\"Enter the amount of money to be converted: \")\n",
    "rate = get_input(\"Enter the exchange rate: \")\n",
    "converted_amount = convert_currency(amount, rate)\n",
    "\n",
    "print(f\"{amount} at an exchange rate of {rate} is {converted_amount}\")"
   ]
  }
 ],
 "metadata": {
  "kernelspec": {
   "display_name": "base",
   "language": "python",
   "name": "python3"
  },
  "language_info": {
   "codemirror_mode": {
    "name": "ipython",
    "version": 3
   },
   "file_extension": ".py",
   "mimetype": "text/x-python",
   "name": "python",
   "nbconvert_exporter": "python",
   "pygments_lexer": "ipython3",
   "version": "3.12.7"
  }
 },
 "nbformat": 4,
 "nbformat_minor": 2
}
