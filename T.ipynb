{
 "cells": [
  {
   "cell_type": "code",
   "execution_count": null,
   "metadata": {},
   "outputs": [
    {
     "name": "stdout",
     "output_type": "stream",
     "text": [
      "62\n"
     ]
    }
   ],
   "source": [
    "print(32 + 30)"
   ]
  },
  {
   "cell_type": "code",
   "execution_count": 1,
   "metadata": {},
   "outputs": [
    {
     "name": "stdout",
     "output_type": "stream",
     "text": [
      "Don Tresor\n"
     ]
    }
   ],
   "source": [
    "i = \"Don\"\n",
    "t = \"Tresor\"\n",
    "\n",
    "print(i + \" \" + t)"
   ]
  },
  {
   "cell_type": "code",
   "execution_count": null,
   "metadata": {},
   "outputs": [
    {
     "ename": "",
     "evalue": "",
     "output_type": "error",
     "traceback": [
      "\u001b[1;31mRunning cells with 'Python 3.13.2' requires the ipykernel package.\n",
      "\u001b[1;31mRun the following command to install 'ipykernel' into the Python environment. \n",
      "\u001b[1;31mCommand: 'd:/Programs/Python/Python313/python.exe -m pip install ipykernel -U --user --force-reinstall'"
     ]
    }
   ],
   "source": [
    "BD = 60\n",
    "MIS = 70\n",
    "OS = 80\n",
    "NET = 90\n",
    "DS = 100\n",
    "\n",
    "print(\"Big Data:\", BD)\n",
    "print(\"Management Information System:\", MIS)\n",
    "print(\"Operating System:\", OS)\n",
    "print(\"C#:\", NET)\n",
    "print(\"Data Structure:\", DS)\n",
    "print(\"\\nTotal:\", BD + MIS + OS + NET + DS)\n",
    "print(\"\\nAverage:\", (BD + MIS + OS + NET + DS) / 5)\n",
    "\n"
   ]
  },
  {
   "cell_type": "code",
   "execution_count": null,
   "metadata": {},
   "outputs": [
    {
     "ename": "",
     "evalue": "",
     "output_type": "error",
     "traceback": [
      "\u001b[1;31mRunning cells with 'Python 3.13.2' requires the ipykernel package.\n",
      "\u001b[1;31mRun the following command to install 'ipykernel' into the Python environment. \n",
      "\u001b[1;31mCommand: 'd:/Programs/Python/Python313/python.exe -m pip install ipykernel -U --user --force-reinstall'"
     ]
    }
   ],
   "source": [
    "n1 = 10\n",
    "n2 = 20\n",
    "n3 = 30\n",
    "n4 = 40\n",
    "n5 = 50\n",
    "n6 = 60\n",
    "n7 = 70\n",
    "n8 = 80\n",
    "n9 = 90\n",
    "n10 =100\n",
    "\n",
    "print(\"Addition: \", n1 + n2 + n3 + n4 + n5 + n6 + n7 + n8 + n9 + n10)\n",
    "print(\"Subtraction: \", n1 - n2 - n3 - n4 - n5 - n6 - n7 - n8 - n9 - n10)\n",
    "print(\"Multiplication of Numbers: \", n1 * n2 * n3 * n4 * n5 * n6 * n7 * n8 * n9 * n10)"
   ]
  }
 ],
 "metadata": {
  "kernelspec": {
   "display_name": "Python 3",
   "language": "python",
   "name": "python3"
  },
  "language_info": {
   "codemirror_mode": {
    "name": "ipython",
    "version": 3
   },
   "file_extension": ".py",
   "mimetype": "text/x-python",
   "name": "python",
   "nbconvert_exporter": "python",
   "pygments_lexer": "ipython3",
   "version": "3.13.2"
  }
 },
 "nbformat": 4,
 "nbformat_minor": 2
}
